{
 "cells": [
  {
   "cell_type": "code",
   "execution_count": 1,
   "metadata": {
    "collapsed": true
   },
   "outputs": [],
   "source": [
    "import numpy as np\n",
    "import astropy.io.fits as pf\n",
    "import math\n",
    "import matplotlib.pyplot as plt"
   ]
  },
  {
   "cell_type": "code",
   "execution_count": 192,
   "metadata": {
    "collapsed": false
   },
   "outputs": [
    {
     "data": {
      "image/png": "[encoded data removed]",
      "text/plain": [
       "<matplotlib.figure.Figure at 0x7f645bec66a0>"
      ]
     },
     "metadata": {},
     "output_type": "display_data"
    }
   ],
   "source": [
    "#kkkkkk\n",
    "data = np.genfromtxt('goodss_3dhst.v4.1.zout', skip_header=2)\n",
    "\n",
    "z_spec = data[:,1]\n",
    "z_a  = data[:,2]\n",
    "numb = data[:,0]\n",
    "\n",
    "plt.hist(z_a, bins=np.linspace(0.01,10,100))\n",
    "plt.show()\n",
    "\n",
    "filt = (z_a >= 6)\n",
    "\n",
    "z_a1 = z_a[filt]\n",
    "z_spec1 = z_spec[filt]\n",
    "z_peak1 = data[:,13][filt]\n",
    "numb1 = numb[filt]"
   ]
  },
  {
   "cell_type": "code",
   "execution_count": 3,
   "metadata": {
    "collapsed": true
   },
   "outputs": [],
   "source": [
    "XX = np.genfromtxt('goodss_3dhst.v4.1.cat')[:, 1]\n",
    "YY = np.genfromtxt('goodss_3dhst.v4.1.cat')[:, 2]\n",
    "\n",
    "X1 = XX[filt]\n",
    "Y1 = YY[filt]\n"
   ]
  },
  {
   "cell_type": "code",
   "execution_count": 175,
   "metadata": {
    "collapsed": true
   },
   "outputs": [],
   "source": [
    "X0 = []\n",
    "Y0 = []\n",
    "rs = []\n",
    "n =  []\n",
    "for i in range (len(X1)):\n",
    "\n",
    "    if (0 < X1[i] - 6000 < 4000) and (0 < Y1[i] - 10000 < 4000):\n",
    "        X0.append(X1[i] - 6000)\n",
    "        Y0.append(Y1[i] - 10000)\n",
    "        rs.append(z_a1[i])\n",
    "        n.append(numb1[i])\n"
   ]
  },
  {
   "cell_type": "code",
   "execution_count": 176,
   "metadata": {
    "collapsed": false
   },
   "outputs": [
    {
     "name": "stdout",
     "output_type": "stream",
     "text": [
      "575 575 575 575\n",
      "<class 'list'>\n"
     ]
    }
   ],
   "source": [
    "print(len(rs),len(X0),len(Y0),len(n))\n",
    "print(type(X0),type(Y0),type(rs))\n"
   ]
  },
  {
   "cell_type": "code",
   "execution_count": 194,
   "metadata": {
    "collapsed": false
   },
   "outputs": [
    {
     "name": "stdout",
     "output_type": "stream",
     "text": [
      "wait\n",
      "wait\n",
      "[[ 0.     0.232  2.     2.01 ]\n",
      " [ 0.232  0.     1.768  1.778]\n",
      " [ 2.     1.768  0.     0.01 ]\n",
      " [ 2.01   1.778  0.01   0.   ]]\n"
     ]
    }
   ],
   "source": [
    "k = np.array([3.99,4.222,5.99,6.000])\n",
    "As = np.zeros((len(k),len(k)))\n",
    "tempk = np.zeros(len(k))\n",
    "\n",
    "\n",
    "for j in range (len(k)):\n",
    "     if (j % 2 == 0):\n",
    "         print('wait')    \n",
    "     tempk = abs(k - k[j])\n",
    "     As[j,:] = tempk\n",
    "        \n",
    "print(As)"
   ]
  },
  {
   "cell_type": "code",
   "execution_count": 152,
   "metadata": {
    "collapsed": false
   },
   "outputs": [
    {
     "name": "stdout",
     "output_type": "stream",
     "text": [
      "wait\n",
      "wait\n",
      "wait\n",
      "wait\n",
      "wait\n",
      "wait\n"
     ]
    }
   ],
   "source": [
    "Astrx = np.zeros((len(X0),len(X0)))\n",
    "Astry = np.zeros((len(Y0),len(Y0)))\n",
    "Astrz = np.zeros((len(rs),len(rs)))\n",
    "\n",
    "tempx = np.zeros(len(X0))\n",
    "tempy = np.zeros(len(Y0))\n",
    "tempz = np.zeros(len(rs))\n",
    "for j in range (len(X0)):\n",
    "     if (j % 100 == 0):\n",
    "         print('wait')    \n",
    "     tempx = abs(X0 - X0[j])\n",
    "     Astrx[j,:] = tempx\n",
    "     tempy = abs(Y0 - Y0[j])\n",
    "     Astry[j,:] = tempy\n",
    "     tempz = abs(rs - rs[j])\n",
    "     Astrz[j,:] = tempz\n",
    "  "
   ]
  },
  {
   "cell_type": "code",
   "execution_count": 90,
   "metadata": {
    "collapsed": false
   },
   "outputs": [
    {
     "name": "stdout",
     "output_type": "stream",
     "text": [
      "X\n",
      "[[    0.     1082.439  1871.447 ...,  1285.84   1783.999  2931.684]\n",
      " [ 1082.439     0.      789.008 ...,   203.401   701.56   1849.245]\n",
      " [ 1871.447   789.008     0.    ...,   585.607    87.448  1060.237]\n",
      " ..., \n",
      " [ 1285.84    203.401   585.607 ...,     0.      498.159  1645.844]\n",
      " [ 1783.999   701.56     87.448 ...,   498.159     0.     1147.685]\n",
      " [ 2931.684  1849.245  1060.237 ...,  1645.844  1147.685     0.   ]]\n",
      "Y\n",
      "[[  0.00000000e+00   4.07060000e+01   1.46556000e+02 ...,   3.89457600e+03\n",
      "    3.89664100e+03   3.94368700e+03]\n",
      " [  4.07060000e+01   0.00000000e+00   1.05850000e+02 ...,   3.85387000e+03\n",
      "    3.85593500e+03   3.90298100e+03]\n",
      " [  1.46556000e+02   1.05850000e+02   0.00000000e+00 ...,   3.74802000e+03\n",
      "    3.75008500e+03   3.79713100e+03]\n",
      " ..., \n",
      " [  3.89457600e+03   3.85387000e+03   3.74802000e+03 ...,   0.00000000e+00\n",
      "    2.06500000e+00   4.91110000e+01]\n",
      " [  3.89664100e+03   3.85593500e+03   3.75008500e+03 ...,   2.06500000e+00\n",
      "    0.00000000e+00   4.70460000e+01]\n",
      " [  3.94368700e+03   3.90298100e+03   3.79713100e+03 ...,   4.91110000e+01\n",
      "    4.70460000e+01   0.00000000e+00]]\n",
      "Z\n",
      "[[ 0.     0.75   1.322 ...,  1.667  0.     2.787]\n",
      " [ 0.75   0.     0.572 ...,  0.917  0.75   2.037]\n",
      " [ 1.322  0.572  0.    ...,  0.345  1.322  1.465]\n",
      " ..., \n",
      " [ 1.667  0.917  0.345 ...,  0.     1.667  1.12 ]\n",
      " [ 0.     0.75   1.322 ...,  1.667  0.     2.787]\n",
      " [ 2.787  2.037  1.465 ...,  1.12   2.787  0.   ]]\n"
     ]
    }
   ],
   "source": [
    "print('X')\n",
    "print(Astrx)\n",
    "print('Y')\n",
    "print(Astry)\n",
    "print('Z')\n",
    "print(Astrz)"
   ]
  },
  {
   "cell_type": "code",
   "execution_count": 275,
   "metadata": {
    "collapsed": false
   },
   "outputs": [
    {
     "name": "stdout",
     "output_type": "stream",
     "text": [
      "u\n",
      "u\n",
      "u\n"
     ]
    }
   ],
   "source": [
    "G = []\n",
    "G = Astry[143,:]\n",
    "\n",
    "for i in range (len(G)):\n",
    "    if (0 < G[i] < 4):\n",
    "        #print(\"%1.10e\" % G[i])\n",
    "        print('u')"
   ]
  },
  {
   "cell_type": "code",
   "execution_count": 213,
   "metadata": {
    "collapsed": false
   },
   "outputs": [
    {
     "name": "stdout",
     "output_type": "stream",
     "text": [
      "575\n",
      "8.016\n",
      "8.016\n",
      "8.016\n",
      "8.016\n",
      "8.016\n",
      "8.016\n",
      "8.016\n",
      "8.016\n",
      "8.016\n",
      "8.016\n",
      "8.016\n",
      "8.016\n",
      "8.016\n",
      "8.016\n",
      "8.016\n",
      "8.016\n",
      "8.016\n",
      "8.016\n",
      "8.016\n",
      "8.016\n",
      "8.016\n"
     ]
    }
   ],
   "source": [
    "print(len(rs))\n",
    "for i in range (len(rs)):\n",
    "    if  (8 <= rs[i] <= 8.02):\n",
    "            \n",
    "        print(rs[i])            "
   ]
  },
  {
   "cell_type": "code",
   "execution_count": 219,
   "metadata": {
    "collapsed": false
   },
   "outputs": [
    {
     "name": "stdout",
     "output_type": "stream",
     "text": [
      "[1, 0, 3, 1, 0]\n",
      "5\n",
      "[1, 0, 1, 1, 0]\n",
      "\n",
      "[2, 0, 3, 1, 1]\n",
      "\n"
     ]
    }
   ],
   "source": [
    "A = np.array([[1.3,2,3,8,9],[4,5,6,8,9],[1,1,1,9,9],[1,9,9,9,7],[3,2,3,4,5]])\n",
    "candidats1 = [np.sum((A[i]>0) & (A[i] < 2)) for i in range(5)]\n",
    "print(candidats1)\n",
    "print(len(candidats1))\n",
    "\n",
    "B = np.array([[1.8,2,3,6,6],[4,5,6,8,6],[4,4,4,9,1],[1,0,9,9,3],[3,3,3,3,3]])\n",
    "candidats2 = [np.sum((B[i]>0) & (B[i] < 2)) for i in range(5)]\n",
    "print(candidats2)\n",
    "print()\n",
    "\n",
    "C = np.array([[1,2,3,1,4],[4,5,6,8,4],[1,1,1,9,4],[1.0,9,9,9.0,4],[1,4,4,4,4]])\n",
    "candidats3 = [np.sum((C[i]>0) & (C[i] < 2)) for i in range(5)]\n",
    "print(candidats3)\n",
    "print()\n",
    "\n",
    "\n",
    "\n"
   ]
  },
  {
   "cell_type": "code",
   "execution_count": 221,
   "metadata": {
    "collapsed": false
   },
   "outputs": [
    {
     "data": {
      "text/plain": [
       "array([ 11.4,  31. ,  41. ])"
      ]
     },
     "execution_count": 221,
     "metadata": {},
     "output_type": "execute_result"
    }
   ],
   "source": [
    "g=np.array([11.4,21,31,41,91])\n",
    "g[np.where((np.array(candidats1)>0) & (np.array(candidats2)>0)  & (np.array(candidats3)>0) )[0]]"
   ]
  },
  {
   "cell_type": "code",
   "execution_count": 260,
   "metadata": {
    "collapsed": false
   },
   "outputs": [
    {
     "name": "stdout",
     "output_type": "stream",
     "text": [
      "[0, 1, 0, 0, 0, 0, 0, 0, 0, 1, 1, 0, 1, 1, 0, 2, 0, 0, 1, 1, 0, 1, 1, 0, 2, 1, 1, 0, 1, 1, 0, 0, 1, 1, 0, 1, 0, 0, 1, 0, 0, 0, 1, 0, 0, 1, 0, 1, 0, 0, 0, 1, 2, 1, 1, 2, 0, 1, 0, 0, 1, 0, 0, 0, 0, 0, 0, 0, 0, 0, 0, 0, 2, 0, 1, 2, 0, 0, 0, 0, 0, 1, 0, 0, 0, 0, 0, 0, 0, 0, 0, 0, 1, 0, 0, 1, 2, 1, 1, 3, 1, 0, 0, 0, 2, 0, 1, 0, 1, 2, 1, 0, 0, 0, 0, 0, 1, 0, 0, 0, 0, 0, 0, 1, 0, 1, 0, 1, 1, 1, 1, 0, 2, 2, 0, 2, 0, 2, 0, 0, 0, 0, 0, 3, 0, 0, 0, 2, 3, 0, 2, 0, 0, 0, 0, 0, 1, 0, 1, 1, 0, 1, 0, 1, 1, 0, 0, 1, 1, 0, 0, 1, 1, 1, 0, 1, 3, 4, 0, 0, 1, 2, 0, 3, 1, 1, 0, 0, 1, 0, 1, 1, 0, 1, 1, 0, 1, 1, 1, 0, 3, 0, 0, 1, 0, 0, 0, 0, 0, 2, 2, 1, 0, 0, 0, 0, 2, 1, 2, 1, 2, 0, 0, 0, 1, 1, 3, 0, 0, 1, 0, 0, 0, 3, 2, 2, 3, 0, 0, 2, 0, 0, 0, 0, 1, 2, 0, 0, 2, 0, 1, 0, 0, 0, 1, 2, 0, 1, 0, 0, 2, 0, 0, 0, 1, 0, 0, 0, 0, 1, 3, 1, 0, 0, 0, 0, 0, 1, 0, 1, 0, 1, 0, 0, 0, 1, 0, 1, 0, 1, 1, 0, 1, 0, 0, 1, 0, 0, 0, 0, 0, 0, 0, 1, 1, 0, 0, 2, 0, 1, 0, 0, 0, 0, 1, 0, 2, 1, 0, 1, 0, 2, 1, 0, 2, 0, 1, 0, 1, 0, 0, 1, 1, 0, 0, 2, 1, 1, 0, 0, 2, 1, 1, 0, 1, 0, 1, 0, 0, 2, 1, 0, 2, 1, 2, 0, 0, 0, 0, 1, 0, 0, 0, 0, 0, 0, 1, 0, 1, 0, 1, 0, 2, 0, 0, 1, 1, 1, 0, 0, 0, 0, 0, 0, 1, 0, 1, 0, 0, 1, 0, 0, 1, 0, 1, 0, 0, 2, 0, 1, 0, 0, 1, 2, 0, 0, 0, 0, 0, 0, 1, 0, 0, 1, 2, 0, 0, 2, 0, 1, 0, 0, 3, 1, 1, 0, 1, 0, 0, 1, 0, 0, 0, 3, 1, 0, 0, 0, 2, 0, 0, 0, 0, 0, 0, 0, 3, 0, 0, 1, 0, 0, 1, 1, 1, 0, 0, 2, 0, 0, 0, 1, 0, 0, 3, 0, 1, 1, 1, 1, 2, 0, 1, 0, 0, 1, 1, 1, 1, 0, 2, 1, 2, 0, 1, 1, 0, 1, 0, 0, 2, 3, 1, 3, 0, 0, 3, 2, 0, 1, 0, 2, 1, 3, 1, 1, 0, 1, 0, 1, 1, 1, 2, 0, 1, 2, 0, 0, 1, 0, 1, 0, 2, 0, 0, 1, 0, 1, 0, 0, 1, 0, 1, 0, 1, 1, 1, 2, 3, 0, 0, 0, 0, 0, 0, 0, 0, 0, 1, 1, 3, 1, 1, 0, 0, 0, 0, 0, 0, 2, 1, 2, 0, 1, 0, 1, 0, 0, 1, 0, 0, 0, 1, 0, 1]\n",
      "\n",
      "[0, 0, 0, 0, 0, 0, 0, 0, 0, 0, 0, 0, 0, 0, 0, 0, 0, 0, 0, 0, 0, 0, 0, 0, 0, 0, 0, 0, 0, 0, 0, 0, 0, 0, 0, 0, 0, 1, 1, 0, 0, 0, 0, 0, 0, 1, 1, 0, 1, 0, 1, 1, 1, 0, 1, 1, 0, 0, 0, 2, 2, 2, 0, 1, 1, 0, 0, 1, 1, 0, 0, 0, 0, 1, 2, 0, 0, 1, 0, 0, 0, 0, 0, 1, 1, 0, 0, 0, 1, 1, 0, 0, 0, 0, 0, 0, 0, 0, 1, 1, 0, 0, 0, 1, 2, 1, 2, 0, 0, 0, 2, 2, 2, 0, 1, 1, 1, 0, 0, 1, 1, 1, 2, 2, 3, 1, 0, 0, 2, 0, 0, 0, 0, 1, 1, 0, 0, 0, 0, 0, 2, 3, 3, 2, 0, 0, 0, 0, 0, 0, 0, 0, 1, 1, 1, 1, 2, 1, 0, 0, 1, 1, 0, 0, 1, 1, 1, 1, 1, 0, 1, 0, 1, 0, 0, 1, 1, 1, 1, 0, 1, 1, 1, 1, 0, 0, 1, 2, 2, 0, 2, 1, 1, 1, 0, 0, 0, 2, 2, 2, 0, 0, 0, 0, 0, 0, 1, 1, 0, 0, 0, 0, 0, 2, 0, 0, 0, 0, 0, 0, 0, 0, 3, 3, 3, 3, 0, 3, 4, 4, 4, 3, 1, 0, 4, 3, 0, 0, 2, 0, 0, 1, 1, 0, 0, 0, 1, 1, 0, 0, 1, 1, 1, 0, 1, 1, 2, 1, 0, 3, 3, 3, 3, 1, 1, 0, 0, 1, 0, 1, 1, 0, 1, 1, 1, 1, 1, 0, 0, 0, 2, 2, 3, 2, 2, 0, 0, 0, 1, 1, 1, 3, 1, 1, 1, 0, 0, 0, 0, 0, 1, 1, 0, 0, 0, 0, 1, 1, 0, 1, 3, 2, 2, 0, 0, 2, 0, 2, 0, 0, 1, 2, 1, 1, 1, 1, 1, 1, 1, 0, 0, 1, 1, 2, 3, 3, 3, 3, 0, 0, 2, 3, 3, 2, 0, 1, 0, 2, 1, 2, 1, 1, 1, 1, 0, 0, 2, 2, 2, 0, 0, 0, 1, 0, 0, 1, 1, 1, 0, 1, 0, 1, 1, 1, 0, 1, 1, 2, 2, 3, 1, 1, 1, 0, 0, 0, 0, 0, 0, 0, 0, 0, 1, 1, 1, 1, 3, 3, 3, 3, 0, 0, 0, 1, 1, 0, 0, 1, 1, 1, 1, 2, 2, 0, 2, 0, 0, 0, 1, 1, 1, 1, 0, 0, 1, 1, 0, 0, 0, 1, 0, 0, 0, 1, 1, 0, 0, 0, 1, 1, 0, 0, 1, 0, 1, 1, 1, 2, 1, 0, 0, 0, 0, 0, 0, 1, 1, 0, 0, 0, 0, 0, 0, 1, 2, 1, 0, 0, 0, 0, 0, 0, 1, 0, 0, 1, 1, 1, 0, 0, 0, 1, 1, 0, 0, 0, 0, 0, 0, 0, 0, 0, 1, 1, 0, 0, 0, 0, 0, 1, 0, 1, 1, 1, 0, 0, 0, 0, 0, 2, 2, 2, 1, 0, 0, 1, 0, 0, 0, 0, 0, 1, 1, 1, 1, 1, 1, 0, 1, 0, 0, 1, 0, 0, 1, 1, 0, 0, 0, 1, 1, 0, 0, 0, 1, 1, 0, 0, 0, 0, 0, 0, 1, 1, 0, 0, 0, 2, 2, 2, 0, 1, 1, 0, 0, 0, 0, 0, 0, 0, 0, 0, 0, 0, 0]\n",
      "\n",
      "73\n"
     ]
    }
   ],
   "source": [
    "candidatsx = [np.sum((Astrx[i] > 0) & (Astrx[i] < 1.5)) for i in range(len(X0))]\n",
    "print(candidatsx)\n",
    "\n",
    "candidatsy = [np.sum((Astry[i] > 0) & (Astry[i] < 1.5)) for i in range(len(Y0))]\n",
    "print()\n",
    "print(candidatsy)\n",
    "\n",
    "candidatsz = [np.sum((Astrz[i] > 0) & (Astrz[i] < 0.071)) for i in range(len(rs))]\n",
    "print()\n",
    "print(575 - candidatsz.count(0))\n"
   ]
  },
  {
   "cell_type": "code",
   "execution_count": 272,
   "metadata": {
    "collapsed": false
   },
   "outputs": [
    {
     "name": "stdout",
     "output_type": "stream",
     "text": [
      "13\n",
      "[array([143, 168, 176, 177, 181, 197, 336, 376, 377, 419, 472, 503, 561])]\n",
      "\n",
      "\n",
      "[array([143, 168, 176, 177, 181, 197, 336, 376, 377, 419, 472, 503, 561])]\n",
      "2403.813 1405.132 6.101\n"
     ]
    }
   ],
   "source": [
    "X0 = np.array(X0)\n",
    "x = X0[np.where((np.array(candidatsx)>0) & (np.array(candidatsy)>0)  & (np.array(candidatsz)>0) )[0]]\n",
    "print(len(x))\n",
    "print([np.where((np.array(candidatsx)>0) & (np.array(candidatsy)>0)  & (np.array(candidatsz)>0) )[0]])\n",
    "\n",
    "Y0 = np.array(Y0)\n",
    "y = Y0[np.where( (np.array(candidatsx)>0)  & (np.array(candidatsy)>0)  & (np.array(candidatsz)>0) )[0]]\n",
    "print()\n",
    "print()\n",
    "\n",
    "rs = np.array(rs)\n",
    "z = rs[np.where((np.array(candidatsx)>0) & (np.array(candidatsy)>0)  & (np.array(candidatsz)>0) )[0]]\n",
    "print([np.where((np.array(candidatsx)>0) & (np.array(candidatsy)>0)  & (np.array(candidatsz)>0) )[0]])\n",
    "\n",
    "n = np.array(n)\n",
    "m = n[np.where((np.array(candidatsx)>0) & (np.array(candidatsy)>0)  & (np.array(candidatsz)>0) )[0]]\n",
    "\n",
    "print(X0[143],Y0[143],rs[143])\n"
   ]
  },
  {
   "cell_type": "code",
   "execution_count": 262,
   "metadata": {
    "collapsed": true
   },
   "outputs": [],
   "source": [
    "Yes = np.vstack((m, x, y, z))\n",
    "np.savetxt('intr.dat', np.transpose(Yes), delimiter=\"  \", fmt=\"%s\")"
   ]
  },
  {
   "cell_type": "code",
   "execution_count": 222,
   "metadata": {
    "collapsed": true
   },
   "outputs": [],
   "source": [
    "dat = np.genfromtxt('intr.dat')\n"
   ]
  },
  {
   "cell_type": "code",
   "execution_count": 227,
   "metadata": {
    "collapsed": true
   },
   "outputs": [],
   "source": [
    "x = dat[:,1]\n",
    "y = dat[:,2]\n",
    "z = dat[:,3]"
   ]
  },
  {
   "cell_type": "code",
   "execution_count": null,
   "metadata": {
    "collapsed": false
   },
   "outputs": [],
   "source": [
    "\n",
    "\n",
    "\n"
   ]
  },
  {
   "cell_type": "code",
   "execution_count": null,
   "metadata": {
    "collapsed": true
   },
   "outputs": [],
   "source": []
  }
 ],
 "metadata": {
  "anaconda-cloud": {},
  "kernelspec": {
   "display_name": "Python [astroconda]",
   "language": "python",
   "name": "Python [astroconda]"
  },
  "language_info": {
   "codemirror_mode": {
    "name": "ipython",
    "version": 3
   },
   "file_extension": ".py",
   "mimetype": "text/x-python",
   "name": "python",
   "nbconvert_exporter": "python",
   "pygments_lexer": "ipython3",
   "version": "3.5.2"
  }
 },
 "nbformat": 4,
 "nbformat_minor": 0
}
