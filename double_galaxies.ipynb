{
 "cells": [
  {
   "cell_type": "code",
   "execution_count": 17,
   "metadata": {
    "collapsed": true
   },
   "outputs": [],
   "source": [
    "import numpy as np\n",
    "import astropy.io.fits as pf\n",
    "import math\n",
    "import matplotlib.pyplot as plt\n",
    "from astropy.wcs import WCS"
   ]
  },
  {
   "cell_type": "code",
   "execution_count": 50,
   "metadata": {
    "collapsed": false
   },
   "outputs": [],
   "source": [
    "\n",
    "def find(cat, name, filtr):\n",
    "    \n",
    "    with open(cat, 'r') as f:\n",
    "        with open(name, 'w') as y:\n",
    "            lines = f.readlines()\n",
    "            \n",
    "            for i, line in enumerate(lines):\n",
    "                if i<=2:\n",
    "                    y.write(line) \n",
    "                for j in range(len(filtr)):\n",
    "                    if i == filtr[j]+2:\n",
    "                        y.write(line)     \n",
    "                        \n",
    "\n",
    "#cat = 'goodss_3dhst.v4.1.cat'\n",
    "#name = 'c.txt'\n",
    "#n = np.array([3,4])\n",
    "#filtr = n\n",
    "#find('goodss_3dhst.v4.1.cat','c.txt', n)\n",
    "\n",
    "\n"
   ]
  },
  {
   "cell_type": "code",
   "execution_count": 16,
   "metadata": {
    "collapsed": false,
    "scrolled": false
   },
   "outputs": [
    {
     "name": "stdout",
     "output_type": "stream",
     "text": [
      "[ 53.27737045  53.26937866  53.27024841  53.25611877  53.26578903\n",
      "  53.29058075  53.15279007  53.15504074  53.14796066  53.13933182\n",
      "  53.13800049  53.17950058  53.16550064]\n",
      "50\n",
      "50\n"
     ]
    },
    {
     "name": "stderr",
     "output_type": "stream",
     "text": [
      "WARNING: VerifyWarning: Invalid keyword for column 11: ASCII table null option (TNULLn) is longer than the column's character width and will be truncated (got '-32768'). [astropy.io.fits.column]\n",
      "WARNING: FITSFixedWarning: The WCS transformation has more axes (2) than the image it is associated with (0) [astropy.wcs.wcs]\n"
     ]
    }
   ],
   "source": [
    "# Загружаем каталог из статьи\n",
    "f = pf.open('asu.fit')\n",
    "h = f[1].header\n",
    "kat = f[1].data\n",
    "\n",
    "\n",
    "ds  = kat['dset']\n",
    "#print(kat['_RAJ2000'])\n",
    "#print(kat['RAJ2000'])\n",
    "\n",
    "fi = (ds == 3)\n",
    "\n",
    "# Возьмём нужные, не знаю почему именно такие\n",
    "Ra  = kat['_RAJ2000'][fi]\n",
    "Dec = kat['_DEJ2000'][fi]\n",
    "zphot = kat['zphot'][fi]\n",
    "mag = kat['F160W'][fi]\n",
    "\n",
    "\n",
    "print(Ra)\n",
    "\n",
    "print(len(kat['_RAJ2000']))\n",
    "print(len(kat['_DEJ2000']))\n",
    "# А вот с представвлением wcs тут тяжко\n",
    "\n",
    "w = WCS('asu.fit')\n",
    "#w.printwcs()\n",
    "\n",
    "\n"
   ]
  },
  {
   "cell_type": "code",
   "execution_count": 15,
   "metadata": {
    "collapsed": false
   },
   "outputs": [
    {
     "name": "stdout",
     "output_type": "stream",
     "text": [
      "\n",
      "WCS Keywords\n",
      "\n",
      "Number of WCS axes: 2\n",
      "CTYPE : 'RA---TAN'  'DEC--TAN'  \n",
      "CRVAL : 189.228621  62.238571999999998  \n",
      "CRPIX : 10340.5  10240.5  \n",
      "CD1_1 CD1_2  : -1.6666669999999999e-05  0.0  \n",
      "CD2_1 CD2_2  : 0.0  1.6666669999999999e-05  \n",
      "NAXIS    : 20480 20480\n",
      "10340.5\n",
      "10240.499999999789\n",
      "10861.057488594512\n",
      "9726.254946387193\n"
     ]
    }
   ],
   "source": [
    "# Проверяем работает ли перевод координат в пиксели\n",
    "\n",
    "ff = pf.open('goodsn_3dhst.v4.0.F160W_orig_sci.fits')\n",
    "hh = ff[0].header\n",
    "#katt = ff[1].data\n",
    "\n",
    "\n",
    "w = WCS('goodsn_3dhst.v4.0.F160W_orig_sci.fits')\n",
    "print(w)\n",
    "x = 189.228621\n",
    "y = 62.238572\n",
    "temp = w.all_world2pix(x, y, 1)  #  1-based (Fortran-like) coordinates  wh\n",
    "print(temp[0])\n",
    "print(temp[1])\n",
    "\n",
    "i = 189.21\n",
    "j = 62.23\n",
    "te = w.all_world2pix(i, j, 1)  #  1-based (Fortran-like) coordinates  wh\n",
    "print(te[0])\n",
    "print(te[1])"
   ]
  },
  {
   "cell_type": "code",
   "execution_count": null,
   "metadata": {
    "collapsed": false
   },
   "outputs": [],
   "source": [
    "\n",
    "\n"
   ]
  },
  {
   "cell_type": "code",
   "execution_count": 49,
   "metadata": {
    "collapsed": false
   },
   "outputs": [
    {
     "name": "stdout",
     "output_type": "stream",
     "text": [
      "[  1.00000000e+00   2.00000000e+00   3.00000000e+00 ...,   5.05050000e+04\n",
      "   5.05060000e+04   5.05070000e+04]\n"
     ]
    }
   ],
   "source": [
    "# Загружаем данные с красными смещениями\n",
    "data = np.genfromtxt('goodss_3dhst.v4.1.zout', skip_header=2)\n",
    "\n",
    "z_spec = data[:,1]\n",
    "z_a  = data[:,2]\n",
    "numb = data[:,0]\n",
    "\n",
    "\n",
    "# Запишем условие на обьекты\n",
    "filt = (z_a >= 7)\n",
    "\n",
    "# Отберём нужные\n",
    "z_a1 = z_a[filt]\n",
    "z_spec1 = z_spec[filt]\n",
    "numb1 = numb[filt]\n",
    "print(numb)"
   ]
  },
  {
   "cell_type": "code",
   "execution_count": 22,
   "metadata": {
    "collapsed": false
   },
   "outputs": [
    {
     "name": "stdout",
     "output_type": "stream",
     "text": [
      "1102 1102\n",
      "[   304.    386.    569. ...,  50445.  50449.  50504.]\n"
     ]
    }
   ],
   "source": [
    "# Загружаем координаты обьектов из главного каталога\n",
    "XX = np.genfromtxt('goodss_3dhst.v4.1.cat')[:, 1]\n",
    "YY = np.genfromtxt('goodss_3dhst.v4.1.cat')[:, 2]\n",
    "\n",
    "\n",
    "# Отберём нужные\n",
    "X1 = XX[filt]\n",
    "Y1 = YY[filt]\n",
    "\n",
    "\n",
    "\n",
    "# Первая проверка\n",
    "print(len(X1), len(z_a1))\n",
    "\n"
   ]
  },
  {
   "cell_type": "code",
   "execution_count": 26,
   "metadata": {
    "collapsed": false
   },
   "outputs": [
    {
     "name": "stdout",
     "output_type": "stream",
     "text": [
      "323\n"
     ]
    }
   ],
   "source": [
    "# Из выбранных обьектов отбираем те, которые находятся в нужной области и формируем новые массивы координат, \n",
    "# одновременно с новыми массивами для красного смещения и номерами обьектов\n",
    "X0 = []\n",
    "Y0 = []\n",
    "rs = []\n",
    "n =  []\n",
    "for i in range (len(X1)):\n",
    "\n",
    "    if (0 < X1[i] - 6000 < 4000) and (0 < Y1[i] - 10000 < 4000):\n",
    "        X0.append(X1[i] - 6000)\n",
    "        Y0.append(Y1[i] - 10000)\n",
    "        rs.append(z_a1[i])\n",
    "        n.append(numb1[i])\n",
    "        \n",
    "# Cоздадим таблицу всех обьектов в данной области у которых z>=7\n",
    "Yes0 = np.vstack((X0, Y0))\n",
    "np.savetxt('cat.dat', np.transpose(Yes0), delimiter=\"  \", fmt=\"%s\")\n"
   ]
  },
  {
   "cell_type": "code",
   "execution_count": 6,
   "metadata": {
    "collapsed": false
   },
   "outputs": [
    {
     "name": "stdout",
     "output_type": "stream",
     "text": [
      "323 323 323 323\n"
     ]
    }
   ],
   "source": [
    "# Вторая проверка\n",
    "print(len(rs),len(X0),len(Y0),len(n))"
   ]
  },
  {
   "cell_type": "code",
   "execution_count": 7,
   "metadata": {
    "collapsed": false
   },
   "outputs": [
    {
     "name": "stdout",
     "output_type": "stream",
     "text": [
      "[[ 0.     0.232  2.     2.01 ]\n",
      " [ 0.232  0.     1.768  1.778]\n",
      " [ 2.     1.768  0.     0.01 ]\n",
      " [ 2.01   1.778  0.01   0.   ]]\n"
     ]
    }
   ],
   "source": [
    "# Третья проверка \n",
    "k = np.array([3.99,4.222,5.99,6.000])\n",
    "As = np.zeros((len(k),len(k)))\n",
    "tk = np.zeros(len(k))\n",
    "\n",
    "\n",
    "for j in range (len(k)):   \n",
    "     tk = abs(k - k[j])\n",
    "     As[j,:] = tk\n",
    "        \n",
    "print(As)"
   ]
  },
  {
   "cell_type": "code",
   "execution_count": 28,
   "metadata": {
    "collapsed": false
   },
   "outputs": [],
   "source": [
    "# Создаём матрицы расстояний для координат и красного смещения\n",
    "Ax = np.zeros((len(X0),len(X0)))\n",
    "Ay = np.zeros((len(Y0),len(Y0)))\n",
    "Az = np.zeros((len(rs),len(rs)))\n",
    "\n",
    "tx = np.zeros(len(X0))\n",
    "ty = np.zeros(len(Y0))\n",
    "tz = np.zeros(len(rs))\n",
    "for j in range (len(X0)):   \n",
    "     tx = abs(X0 - X0[j])\n",
    "     Ax[j,:] = tx\n",
    "     ty = abs(Y0 - Y0[j])\n",
    "     Ay[j,:] = ty\n",
    "     tz = abs(rs - rs[j])\n",
    "     Az[j,:] = tz\n",
    "  "
   ]
  },
  {
   "cell_type": "code",
   "execution_count": 23,
   "metadata": {
    "collapsed": false
   },
   "outputs": [
    {
     "name": "stdout",
     "output_type": "stream",
     "text": [
      "X\n",
      "[[    0.     1105.658  1050.749 ...,   639.545   585.607  1060.237]\n",
      " [ 1105.658     0.       54.909 ...,  1745.203   520.051  2165.895]\n",
      " [ 1050.749    54.909     0.    ...,  1690.294   465.142  2110.986]\n",
      " ..., \n",
      " [  639.545  1745.203  1690.294 ...,     0.     1225.152   420.692]\n",
      " [  585.607   520.051   465.142 ...,  1225.152     0.     1645.844]\n",
      " [ 1060.237  2165.895  2110.986 ...,   420.692  1645.844     0.   ]]\n"
     ]
    }
   ],
   "source": [
    "# Четвёртая проверка\n",
    "print('X')\n",
    "print(Ax)\n",
    "\n",
    "\n",
    "\n",
    "\n"
   ]
  },
  {
   "cell_type": "code",
   "execution_count": 10,
   "metadata": {
    "collapsed": false
   },
   "outputs": [
    {
     "name": "stdout",
     "output_type": "stream",
     "text": [
      "0\n"
     ]
    }
   ],
   "source": [
    "# Смотрим сколько обьектов находятся в пределах 2.5 пикселя от 15-го. \n",
    "G = []\n",
    "G = Ax[15,:]\n",
    "k = 0\n",
    "for i in range (len(G)):\n",
    "    if (0 < G[i] < 2.5):\n",
    "        k+=1\n",
    "print(k)        "
   ]
  },
  {
   "cell_type": "code",
   "execution_count": 44,
   "metadata": {
    "collapsed": false
   },
   "outputs": [
    {
     "name": "stdout",
     "output_type": "stream",
     "text": [
      "[0, 0, 0, 1, 3, 1, 0, 2, 1, 1, 1, 1, 1, 2, 2, 0, 0, 1, 0, 0, 0, 0, 2, 0, 1, 0, 2, 1, 1, 1, 0, 2, 1, 0, 1, 0, 1, 0, 0, 0, 0, 1, 1, 0, 0, 1, 0, 1, 0, 1, 2, 0, 2, 1, 1, 2, 1, 1, 0, 0, 0, 0, 0, 0, 1, 1, 1, 0, 0, 0, 0, 1, 0, 3, 3, 1, 0, 4, 2, 2, 0, 2, 0, 0, 0, 2, 1, 0, 0, 1, 0, 1, 1, 0, 1, 2, 0, 3, 0, 1, 0, 3, 0, 2, 0, 1, 1, 1, 1, 2, 3, 3, 0, 0, 0, 3, 1, 0, 1, 0, 1, 2, 0, 2, 0, 0, 1, 0, 1, 1, 2, 2, 0, 1, 0, 2, 0, 1, 2, 0, 0, 0, 2, 0, 0, 0, 1, 0, 0, 0, 2, 1, 1, 0, 0, 0, 2, 0, 2, 1, 0, 0, 1, 0, 0, 0, 0, 0, 2, 0, 0, 3, 1, 0, 0, 2, 0, 1, 1, 0, 1, 0, 0, 0, 1, 1, 0, 3, 0, 0, 0, 2, 2, 1, 0, 0, 1, 0, 0, 0, 1, 2, 3, 2, 0, 0, 0, 0, 0, 0, 2, 1, 1, 1, 0, 3, 0, 0, 0, 0, 0, 0, 1, 0, 0, 1, 1, 0, 0, 1, 1, 4, 0, 0, 1, 1, 0, 1, 0, 0, 0, 0, 2, 2, 1, 0, 1, 0, 3, 0, 1, 0, 3, 1, 1, 0, 0, 3, 0, 0, 0, 1, 0, 2, 0, 4, 1, 0, 2, 1, 3, 1, 2, 0, 0, 2, 0, 1, 4, 1, 2, 0, 2, 0, 0, 1, 1, 3, 0, 1, 2, 1, 2, 2, 0, 1, 0, 0, 2, 1, 2, 0, 1, 0, 0, 2, 1, 2, 0, 0, 0, 1, 0, 3, 1, 0, 1, 4, 1, 2, 1, 1, 1]\n",
      "\n",
      "[0, 0, 0, 0, 0, 0, 0, 0, 0, 0, 0, 0, 0, 0, 0, 0, 0, 0, 1, 1, 1, 1, 1, 1, 0, 0, 0, 1, 1, 0, 1, 1, 2, 0, 1, 1, 0, 0, 0, 0, 0, 0, 0, 0, 0, 0, 0, 0, 1, 1, 0, 0, 0, 0, 1, 1, 0, 0, 0, 2, 2, 2, 0, 0, 0, 0, 2, 2, 0, 2, 2, 1, 2, 1, 0, 0, 2, 2, 2, 0, 1, 1, 0, 1, 1, 1, 2, 1, 1, 3, 2, 2, 1, 1, 0, 0, 0, 0, 1, 1, 1, 2, 1, 1, 2, 1, 0, 2, 0, 0, 0, 0, 2, 1, 1, 0, 0, 0, 1, 1, 0, 0, 0, 0, 3, 3, 3, 3, 2, 2, 2, 1, 1, 1, 1, 0, 0, 1, 1, 1, 1, 1, 1, 0, 0, 2, 2, 2, 1, 1, 2, 1, 0, 1, 1, 1, 1, 1, 2, 2, 2, 0, 0, 1, 1, 0, 0, 0, 0, 1, 1, 0, 1, 1, 1, 2, 2, 1, 0, 1, 1, 0, 2, 2, 2, 3, 3, 4, 4, 0, 0, 2, 2, 2, 0, 2, 2, 2, 2, 2, 3, 1, 2, 1, 3, 2, 2, 2, 1, 1, 1, 1, 2, 0, 0, 0, 1, 1, 1, 1, 0, 0, 0, 0, 0, 0, 3, 4, 4, 4, 3, 1, 1, 0, 1, 1, 2, 2, 2, 0, 0, 0, 0, 1, 1, 0, 0, 0, 1, 1, 0, 0, 1, 1, 0, 1, 1, 0, 0, 1, 2, 1, 0, 0, 0, 0, 0, 0, 1, 1, 0, 0, 0, 1, 1, 0, 0, 0, 0, 1, 1, 0, 0, 0, 1, 0, 1, 0, 0, 0, 2, 2, 2, 1, 1, 0, 0, 0, 0, 0, 0, 1, 0, 0, 1, 0, 0, 1, 1, 2, 0, 0, 1, 1, 0, 0, 0, 0, 0, 0, 0, 0, 0]\n",
      "\n",
      "[[  1.00000000e+03   1.46500000e+00   1.46500000e+00 ...,   1.46500000e+00\n",
      "    3.45000000e-01   1.46500000e+00]\n",
      " [  1.46500000e+00   1.00000000e+03   0.00000000e+00 ...,   0.00000000e+00\n",
      "    1.12000000e+00   0.00000000e+00]\n",
      " [  1.46500000e+00   0.00000000e+00   1.00000000e+03 ...,   0.00000000e+00\n",
      "    1.12000000e+00   0.00000000e+00]\n",
      " ..., \n",
      " [  1.46500000e+00   0.00000000e+00   0.00000000e+00 ...,   1.00000000e+03\n",
      "    1.12000000e+00   0.00000000e+00]\n",
      " [  3.45000000e-01   1.12000000e+00   1.12000000e+00 ...,   1.12000000e+00\n",
      "    1.00000000e+03   1.12000000e+00]\n",
      " [  1.46500000e+00   0.00000000e+00   0.00000000e+00 ...,   0.00000000e+00\n",
      "    1.12000000e+00   1.00000000e+03]]\n"
     ]
    }
   ],
   "source": [
    "# Ищем сколько в каждой строке обьектов, которые находятся близко друг другу и\n",
    "# имеют одинаковые красные смещения\n",
    "\n",
    "candidatsx = [np.sum((Ax[i] > 0) & (Ax[i] < 3)) for i in range(len(X0))]\n",
    "print(candidatsx)\n",
    "print()\n",
    "\n",
    "candidatsy = [np.sum((Ay[i] > 0) & (Ay[i] < 3)) for i in range(len(Y0))]\n",
    "print(candidatsy)\n",
    "print()\n",
    "\n",
    "\n",
    "# Во избежании тех случаев, когда разница берётся от одного обьекта\n",
    "for i in range (len(Az)):\n",
    "    for j in range (len(Az)):\n",
    "        if i == j :\n",
    "            Az[i,j] = 1000\n",
    "            \n",
    "        \n",
    "candidatsz = [np.sum((Az[i] >= 0) & (Az[i]  < 0.00000000001)) for i in range(len(rs))]\n",
    "print(Az)\n"
   ]
  },
  {
   "cell_type": "code",
   "execution_count": 46,
   "metadata": {
    "collapsed": false
   },
   "outputs": [
    {
     "name": "stdout",
     "output_type": "stream",
     "text": [
      "\n",
      "323\n",
      "[ 23480.  23750.  23755.  23893.  23920.  23951.  24511.  24689.  24692.\n",
      "  25014.  25097.  25111.  25264.  25274.  25395.  25537.  25546.  25608.\n",
      "  25613.  25704.  25888.  25938.  26010.  26052.  26080.  26460.  26640.\n",
      "  26711.  26719.  26754.  26775.  26823.  26940.  26946.  27030.  27123.\n",
      "  27215.  27239.  27288.  27359.  27365.  27828.  27905.  27921.  28025.\n",
      "  28081.  28089.  28099.  28174.  28179.  28185.  28242.  28276.  28280.\n",
      "  28283.  28298.  28489.  28513.  28526.  28924.  28933.  28937.  29099.\n",
      "  29161.  29184.  29206.  29391.  29398.  29589.  29651.  29659.  30065.\n",
      "  30511.  30543.  30885.  30888.  31223.  31496.  31500.  31504.  31540.\n",
      "  32081.  32405.]\n"
     ]
    }
   ],
   "source": [
    "# Из столбцов координат и красного смещения выбираем обьекты, где выполняются все три критерия\n",
    "X0 = np.array(X0)\n",
    "x = X0[np.where((np.array(candidatsx)>0) & (np.array(candidatsy)>0)  & (np.array(candidatsz)>0) )[0]]\n",
    "print()\n",
    "\n",
    "Y0 = np.array(Y0)\n",
    "y = Y0[np.where( (np.array(candidatsx)>0)  & (np.array(candidatsy)>0)  & (np.array(candidatsz)>0) )[0]]\n",
    "\n",
    "\n",
    "rs = np.array(rs)\n",
    "z = rs[np.where((np.array(candidatsx)>0) & (np.array(candidatsy)>0)  & (np.array(candidatsz)>0) )[0]]\n",
    "\n",
    "\n",
    "n = np.array(n)\n",
    "print(len(n))\n",
    "m = n[np.where((np.array(candidatsx)>0) & (np.array(candidatsy)>0)  & (np.array(candidatsz)>0) )[0]]\n",
    "\n",
    "print(m)"
   ]
  },
  {
   "cell_type": "code",
   "execution_count": 51,
   "metadata": {
    "collapsed": true
   },
   "outputs": [],
   "source": [
    "find('goodss_3dhst.v4.1.cat','c_nw.txt', m)"
   ]
  },
  {
   "cell_type": "code",
   "execution_count": 47,
   "metadata": {
    "collapsed": false
   },
   "outputs": [
    {
     "name": "stdout",
     "output_type": "stream",
     "text": [
      "[1, 0, 3, 1, 0]\n",
      "\n",
      "[1, 0, 1, 1, 0]\n",
      "\n",
      "[2, 0, 3, 1, 1]\n",
      "\n"
     ]
    },
    {
     "data": {
      "text/plain": [
       "array([ 11.4,  31. ,  41. ])"
      ]
     },
     "execution_count": 47,
     "metadata": {},
     "output_type": "execute_result"
    }
   ],
   "source": [
    "# Пятая проверка \n",
    "A = np.array([[1.3,2,3,8,9],[4,5,6,8,9],[1,1,1,9,9],[1,9,9,9,7],[3,2,3,4,5]])\n",
    "candidats1 = [np.sum((A[i]>0) & (A[i] < 2)) for i in range(5)]\n",
    "print(candidats1)\n",
    "print()\n",
    "\n",
    "B = np.array([[1.8,2,3,6,6],[4,5,6,8,6],[4,4,4,9,1],[1,0,9,9,3],[3,3,3,3,3]])\n",
    "candidats2 = [np.sum((B[i]>0) & (B[i] < 2)) for i in range(5)]\n",
    "print(candidats2)\n",
    "print()\n",
    "\n",
    "C = np.array([[1,2,3,1,4],[4,5,6,8,4],[1,1,1,9,4],[1.0,9,9,9.0,4],[1,4,4,4,4]])\n",
    "candidats3 = [np.sum((C[i]>0) & (C[i] < 2)) for i in range(5)]\n",
    "print(candidats3)\n",
    "print()\n",
    "\n",
    "g=np.array([11.4,21,31,41,91])\n",
    "g[np.where((np.array(candidats1)>0) & (np.array(candidats2)>0)  & (np.array(candidats3)>0) )[0]]\n"
   ]
  },
  {
   "cell_type": "code",
   "execution_count": 14,
   "metadata": {
    "collapsed": true
   },
   "outputs": [],
   "source": [
    "# Составляем таблицу парных обьектов\n",
    "Yes = np.vstack((m, x, y, z))\n",
    "np.savetxt('intr.dat', np.transpose(Yes), delimiter=\"  \", fmt=\"%s\")"
   ]
  },
  {
   "cell_type": "code",
   "execution_count": 15,
   "metadata": {
    "collapsed": true
   },
   "outputs": [],
   "source": [
    "dat = np.genfromtxt('intr.dat')\n",
    "\n",
    "x = dat[:,1]\n",
    "y = dat[:,2]\n",
    "z = dat[:,3]"
   ]
  },
  {
   "cell_type": "code",
   "execution_count": 16,
   "metadata": {
    "collapsed": false
   },
   "outputs": [
    {
     "name": "stdout",
     "output_type": "stream",
     "text": [
      "[ 2383.263  2572.512  2319.53   2683.477  2717.717  2865.121  2610.95\n",
      "  1772.009  2262.227  1911.071  3181.561  2074.046  2943.064  3125.356\n",
      "  2907.912  3269.101  2973.986  1986.187  2107.084  2233.588  1996.622\n",
      "  3003.382  1413.702  2895.112  1846.888  3127.1    2332.784  2906.459\n",
      "  1864.962  2976.02   1671.041  2506.939  3003.144  2836.245  1717.926\n",
      "  2266.242  1715.274  3271.379  2060.298  1436.512  2099.998  2921.756\n",
      "  2146.851  2754.042  2507.923  2038.893  1188.653  2907.183  3036.838\n",
      "  2570.138  1412.206  2071.858  2895.537  2719.517  1717.408  2233.779\n",
      "  1997.566  1866.281  1673.201  2037.43   2568.77   2332.738  1914.999\n",
      "  2343.784  2511.504  2599.857  1867.999  2046.732  2263.464  1997.029]\n",
      "\n",
      "[  909.132   980.75    981.609  1013.105  1012.93   1030.942  1184.147\n",
      "  1226.97   1226.557  1309.553  1325.229  1369.653  1368.801  1403.655\n",
      "  1446.813  1448.609  1464.281  1466.106  1486.186  1536.462  1547.216\n",
      "  1563.61   1568.588  1565.354  1710.908  1727.284  1728.076  1728.69\n",
      "  1738.043  1750.146  1772.723  1774.52   1790.616  1810.674  1832.669\n",
      "  1822.745  1864.556  1865.856  1984.575  1988.634  2012.001  2023.337\n",
      "  2028.8    2030.61   2046.171  2046.789  2060.35   2068.993  2057.406\n",
      "  2073.495  2218.411  2261.163  2276.505  2285.119  2331.294  2333.386\n",
      "  2386.863  2404.328  2405.045  2614.833  2614.774  2707.416  2708.458\n",
      "  2808.123  2873.976  2875.331  2875.068  2884.679  3041.098  3133.321]\n",
      "\n",
      "[ 7.579  8.016  8.763  7.494  8.959  8.571  8.959  8.861  8.959  7.001\n",
      "  8.016  8.106  8.959  8.959  7.927  8.476  8.959  8.959  8.763  7.494\n",
      "  8.861  8.861  8.016  8.959  7.751  8.959  8.959  7.494  7.839  7.839\n",
      "  7.579  8.959  8.959  8.959  8.959  7.41   7.081  7.494  8.959  7.839\n",
      "  8.959  8.959  8.571  8.959  8.959  8.667  7.664  8.959  8.959  8.959\n",
      "  8.959  8.959  8.959  8.959  8.016  8.959  8.959  7.41   7.751  8.959\n",
      "  8.959  8.959  7.41   7.081  7.839  8.016  7.244  8.016  8.959  8.959]\n"
     ]
    }
   ],
   "source": [
    "# Смотрим что получилось\n",
    "print(x)\n",
    "print()\n",
    "print(y)\n",
    "print()\n",
    "print(z)\n",
    "\n"
   ]
  },
  {
   "cell_type": "code",
   "execution_count": null,
   "metadata": {
    "collapsed": true
   },
   "outputs": [],
   "source": []
  }
 ],
 "metadata": {
  "anaconda-cloud": {},
  "kernelspec": {
   "display_name": "Python [astroconda]",
   "language": "python",
   "name": "Python [astroconda]"
  },
  "language_info": {
   "codemirror_mode": {
    "name": "ipython",
    "version": 3
   },
   "file_extension": ".py",
   "mimetype": "text/x-python",
   "name": "python",
   "nbconvert_exporter": "python",
   "pygments_lexer": "ipython3",
   "version": "3.5.2"
  }
 },
 "nbformat": 4,
 "nbformat_minor": 0
}
